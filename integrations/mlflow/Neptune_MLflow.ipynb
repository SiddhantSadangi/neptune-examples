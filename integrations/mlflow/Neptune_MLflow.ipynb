{
  "nbformat": 4,
  "nbformat_minor": 0,
  "metadata": {
    "colab": {
      "name": "Neptune-MLflow.ipynb",
      "private_outputs": true,
      "provenance": [],
      "collapsed_sections": [],
      "toc_visible": true
    },
    "kernelspec": {
      "name": "python3",
      "display_name": "Python 3"
    }
  },
  "cells": [
    {
      "cell_type": "markdown",
      "metadata": {
        "id": "v1D-Y52T5OwT"
      },
      "source": [
        "# Neptune + MLflow"
      ]
    },
    {
      "cell_type": "markdown",
      "metadata": {
        "id": "7MizxtDs5dQX"
      },
      "source": [
        "## Before you start"
      ]
    },
    {
      "cell_type": "markdown",
      "metadata": {
        "id": "-ydwJoVD6Je9"
      },
      "source": [
        "### Install Dependencies"
      ]
    },
    {
      "cell_type": "code",
      "metadata": {
        "id": "BFnMHkiXfU7-"
      },
      "source": [
        "!pip install --quiet mlflow neptune-mlflow"
      ],
      "execution_count": null,
      "outputs": []
    },
    {
      "cell_type": "markdown",
      "metadata": {
        "id": "Wm9Zd0WdKpWZ"
      },
      "source": [
        "### Download the MLflow Quickstart"
      ]
    },
    {
      "cell_type": "code",
      "metadata": {
        "id": "bdPICTYVfZog"
      },
      "source": [
        "!git clone https://github.com/mlflow/mlflow"
      ],
      "execution_count": null,
      "outputs": []
    },
    {
      "cell_type": "markdown",
      "metadata": {
        "id": "0xiPe-X16a8y"
      },
      "source": [
        "## Step 1: Set your Environment Variables"
      ]
    },
    {
      "cell_type": "code",
      "metadata": {
        "id": "G1fQ0CbmhmSC"
      },
      "source": [
        "%env NEPTUNE_API_TOKEN=ANONYMOUS\n",
        "%env NEPTUNE_PROJECT=shared/mlflow-integration"
      ],
      "execution_count": null,
      "outputs": []
    },
    {
      "cell_type": "markdown",
      "metadata": {
        "id": "QoRgIu4tpcqW"
      },
      "source": [
        "**Note:** \n",
        "\n",
        "\n",
        "Instead of logging data to the public project 'shared/mlflow-integration' as an anonymous user 'neptuner' you can log it to your own project.\n",
        "\n",
        "To do that:\n",
        "\n",
        "1. Get your Neptune API token\n",
        "\n",
        "![image](https://neptune.ai/wp-content/uploads/get_token.gif)\n",
        "\n",
        "2. Pass the token to `NEPTUNE_API_TOKEN` environment variable\n",
        "3. Create a new Neptune Project (learn how to do that [here](https://docs.neptune.ai/workspace-project-and-user-management/projects/create-project.html))\n",
        "4. Pass your username and project_name to the `NEPTUNE_PROJECT` environment variable\n",
        "\n",
        "For example:\n",
        "\n",
        "```\n",
        "%env NEPTUNE_API_TOKEN=eyJhcGlfYW908fsdf23f940jiri0bn3085gh03riv03irn\n",
        "%env NEPTUNE_PROJECT=siddhantsadangi/mlflow\n",
        "```"
      ]
    },
    {
      "cell_type": "markdown",
      "metadata": {
        "id": "Z8of9J8662au"
      },
      "source": [
        "## Step 2: Sync your MLruns with Neptune"
      ]
    },
    {
      "cell_type": "markdown",
      "metadata": {
        "id": "XsAgqs4IPVjw"
      },
      "source": [
        "Sample MLflow run"
      ]
    },
    {
      "cell_type": "code",
      "metadata": {
        "id": "F9za9RgnMbCW"
      },
      "source": [
        "import os\n",
        "from random import random, randint\n",
        "from mlflow import log_metric, log_param, log_artifacts\n",
        "\n",
        "# Navigate to MLflow folder\n",
        "os.chdir('/content/mlflow')\n",
        "\n",
        "# Log a parameter (key-value pair)\n",
        "log_param(\"param1\", randint(0, 100))\n",
        "\n",
        "# Log a metric; metrics can be updated throughout the run\n",
        "log_metric(\"foo\", random())\n",
        "log_metric(\"foo\", random()+1)\n",
        "log_metric(\"foo\", random()+2)\n",
        "log_metric(\"foo\", random()+3)\n",
        "\n",
        "log_metric(\"bar\", random())\n",
        "log_metric(\"bar\", random()+1)\n",
        "log_metric(\"bar\", random()+2)\n",
        "log_metric(\"bar\", random()+3)\n",
        "\n",
        "\n",
        "# Log an artifact (output file)\n",
        "if not os.path.exists(\"outputs\"):\n",
        "    os.makedirs(\"outputs\")\n",
        "with open(\"outputs/test.txt\", \"w\") as f:\n",
        "    f.write(\"hello world!\")\n",
        "log_artifacts(\"outputs\")"
      ],
      "execution_count": null,
      "outputs": []
    },
    {
      "cell_type": "markdown",
      "metadata": {
        "id": "w9CfGImkP7JO"
      },
      "source": [
        "Push MLrun to Neptune"
      ]
    },
    {
      "cell_type": "code",
      "metadata": {
        "id": "CHBji8hq3Ngi"
      },
      "source": [
        "!neptune mlflow /content/mlflow/"
      ],
      "execution_count": null,
      "outputs": []
    },
    {
      "cell_type": "markdown",
      "metadata": {
        "id": "g-Ae7n8l0R_j"
      },
      "source": [
        "Click on the link(s) above to browse the MLflow run in Neptune!\n",
        "\n",
        "**Note:**  \n",
        "Running the above code pushes all your MLruns to Neptune. You can rerun the code after fresh runs, and only they will be pushed."
      ]
    }
  ]
}