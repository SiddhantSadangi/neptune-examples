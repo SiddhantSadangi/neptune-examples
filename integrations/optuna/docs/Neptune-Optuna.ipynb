{
 "cells": [
  {
   "cell_type": "markdown",
   "metadata": {
    "id": "G4ny3mHCFrqG",
    "tags": [
     "header"
    ]
   },
   "source": [
    "# Neptune + Optuna"
   ]
  },
  {
   "cell_type": "markdown",
   "metadata": {
    "id": "8iu66Yz2SIWz",
    "tags": [
     "header"
    ]
   },
   "source": [
    "## Before you start"
   ]
  },
  {
   "cell_type": "markdown",
   "metadata": {
    "id": "xndcBi_EUFVi",
    "tags": [
     "header"
    ]
   },
   "source": [
    "### Install dependencies"
   ]
  },
  {
   "cell_type": "code",
   "execution_count": 1,
   "metadata": {
    "id": "jl90ahSMvhmV",
    "tags": [
     "installation"
    ]
   },
   "outputs": [],
   "source": [
    "! pip install --quiet optuna==2.3.0 neptune-client==0.4.125 neptune-contrib['monitoring']==0.24.8"
   ]
  },
  {
   "cell_type": "markdown",
   "metadata": {
    "id": "1As3OW3LGqKg",
    "tags": [
     "header"
    ]
   },
   "source": [
    "### Import libraries"
   ]
  },
  {
   "cell_type": "code",
   "execution_count": 3,
   "metadata": {
    "id": "FufE4GTzvRZG",
    "tags": [
     "code"
    ]
   },
   "outputs": [],
   "source": [
    "import lightgbm as lgb\n",
    "import optuna\n",
    "from sklearn.datasets import load_breast_cancer\n",
    "from sklearn.metrics import roc_auc_score\n",
    "from sklearn.model_selection import train_test_split"
   ]
  },
  {
   "cell_type": "markdown",
   "metadata": {
    "id": "K-FNh8EKV40p",
    "tags": [
     "header"
    ]
   },
   "source": [
    "### Create a sample `objective` function for Optuna"
   ]
  },
  {
   "cell_type": "code",
   "execution_count": 4,
   "metadata": {
    "id": "RHuuJb5VV94w",
    "tags": [
     "code"
    ]
   },
   "outputs": [],
   "source": [
    "def objective(trial):\n",
    "   \n",
    "   data, target = load_breast_cancer(return_X_y=True)\n",
    "   train_x, test_x, train_y, test_y = train_test_split(data, target, test_size=0.25)\n",
    "   dtrain = lgb.Dataset(train_x, label=train_y)\n",
    "\n",
    "   param = {\n",
    "      'objective': 'binary',\n",
    "      'metric': 'binary_logloss',\n",
    "      'num_leaves': trial.suggest_int('num_leaves', 2, 256),\n",
    "      'feature_fraction': trial.suggest_uniform('feature_fraction', 0.4, 1.0),\n",
    "      'bagging_fraction': trial.suggest_uniform('bagging_fraction', 0.4, 1.0),\n",
    "      'min_child_samples': trial.suggest_int('min_child_samples', 5, 100),\n",
    "   }\n",
    "\n",
    "   gbm = lgb.train(param, dtrain)\n",
    "   preds = gbm.predict(test_x)\n",
    "   accuracy = roc_auc_score(test_y, preds)\n",
    "   \n",
    "   return accuracy"
   ]
  },
  {
   "cell_type": "markdown",
   "metadata": {
    "id": "If9d2A8zUynE",
    "tags": [
     "header"
    ]
   },
   "source": [
    "### Initialize Neptune"
   ]
  },
  {
   "cell_type": "code",
   "execution_count": 5,
   "metadata": {
    "id": "FQgpdwXVvcY1",
    "tags": [
     "code"
    ]
   },
   "outputs": [],
   "source": [
    "import neptune"
   ]
  },
  {
   "cell_type": "code",
   "execution_count": 6,
   "metadata": {
    "id": "wGuFr2AaU7XF",
    "tags": [
     "code"
    ]
   },
   "outputs": [
    {
     "data": {
      "text/plain": [
       "Project(shared/optuna-integration)"
      ]
     },
     "execution_count": 6,
     "metadata": {},
     "output_type": "execute_result"
    }
   ],
   "source": [
    "neptune.init(api_token='ANONYMOUS', project_qualified_name='shared/optuna-integration')"
   ]
  },
  {
   "cell_type": "markdown",
   "metadata": {
    "id": "X9i-HAeJDLO-",
    "tags": [
     "header"
    ]
   },
   "source": [
    "## Quickstart"
   ]
  },
  {
   "cell_type": "markdown",
   "metadata": {
    "id": "CHp9zfqBToiX",
    "tags": [
     "header"
    ]
   },
   "source": [
    "### Step 1: Create an Experiment"
   ]
  },
  {
   "cell_type": "code",
   "execution_count": 7,
   "metadata": {
    "id": "t5VBefIDwBjR",
    "tags": [
     "code"
    ]
   },
   "outputs": [
    {
     "name": "stderr",
     "output_type": "stream",
     "text": [
      "NVMLError: NVML Shared Library Not Found - GPU usage metrics may not be reported.\n"
     ]
    },
    {
     "name": "stdout",
     "output_type": "stream",
     "text": [
      "https://ui.neptune.ai/shared/optuna-integration/e/OP-8\n"
     ]
    },
    {
     "data": {
      "text/plain": [
       "Experiment(OP-8)"
      ]
     },
     "execution_count": 7,
     "metadata": {},
     "output_type": "execute_result"
    }
   ],
   "source": [
    "neptune.create_experiment('optuna-sweep')"
   ]
  },
  {
   "cell_type": "markdown",
   "metadata": {
    "id": "XomuTzlsVILc",
    "tags": [
     "header"
    ]
   },
   "source": [
    "### Step 2: Create the Neptune Callback"
   ]
  },
  {
   "cell_type": "code",
   "execution_count": 8,
   "metadata": {
    "id": "82879lQuVfsJ",
    "tags": [
     "code"
    ]
   },
   "outputs": [],
   "source": [
    "import neptunecontrib.monitoring.optuna as opt_utils"
   ]
  },
  {
   "cell_type": "code",
   "execution_count": 9,
   "metadata": {
    "id": "ybpXmhwywmJ2",
    "tags": [
     "code"
    ]
   },
   "outputs": [],
   "source": [
    "neptune_callback = opt_utils.NeptuneCallback()"
   ]
  },
  {
   "cell_type": "markdown",
   "metadata": {
    "id": "xbkNjVVLVl8t",
    "tags": [
     "header"
    ]
   },
   "source": [
    "### Step 3: Run Optuna with the Neptune Callback"
   ]
  },
  {
   "cell_type": "code",
   "execution_count": 10,
   "metadata": {
    "id": "40McUYc5wrva",
    "tags": [
     "code"
    ]
   },
   "outputs": [
    {
     "name": "stderr",
     "output_type": "stream",
     "text": [
      "\u001b[32m[I 2020-11-19 11:44:22,644]\u001b[0m A new study created in memory with name: no-name-3cbca82e-2292-4826-8bdc-d85c8e8de7da\u001b[0m\n",
      "\u001b[32m[I 2020-11-19 11:44:22,683]\u001b[0m Trial 0 finished with value: 0.9878406708595389 and parameters: {'num_leaves': 223, 'feature_fraction': 0.7660474749933167, 'bagging_fraction': 0.4276766969511315, 'min_child_samples': 60}. Best is trial 0 with value: 0.9878406708595389.\u001b[0m\n",
      "\u001b[32m[I 2020-11-19 11:44:23,238]\u001b[0m Trial 1 finished with value: 0.9821057012068248 and parameters: {'num_leaves': 99, 'feature_fraction': 0.585439209659321, 'bagging_fraction': 0.9291986066766992, 'min_child_samples': 52}. Best is trial 0 with value: 0.9878406708595389.\u001b[0m\n",
      "\u001b[32m[I 2020-11-19 11:44:23,266]\u001b[0m Trial 2 finished with value: 0.9985632183908045 and parameters: {'num_leaves': 7, 'feature_fraction': 0.8866600442201023, 'bagging_fraction': 0.8108011257539387, 'min_child_samples': 26}. Best is trial 2 with value: 0.9985632183908045.\u001b[0m\n",
      "\u001b[32m[I 2020-11-19 11:44:23,293]\u001b[0m Trial 3 finished with value: 0.9977111943404078 and parameters: {'num_leaves': 180, 'feature_fraction': 0.740019857798488, 'bagging_fraction': 0.9330257058964613, 'min_child_samples': 63}. Best is trial 2 with value: 0.9985632183908045.\u001b[0m\n",
      "\u001b[32m[I 2020-11-19 11:44:23,326]\u001b[0m Trial 4 finished with value: 0.9985080988917306 and parameters: {'num_leaves': 39, 'feature_fraction': 0.6023131757012301, 'bagging_fraction': 0.7215228889615888, 'min_child_samples': 32}. Best is trial 2 with value: 0.9985632183908045.\u001b[0m\n",
      "\u001b[32m[I 2020-11-19 11:44:23,425]\u001b[0m Trial 5 finished with value: 0.9858510195588848 and parameters: {'num_leaves': 67, 'feature_fraction': 0.9248551173020798, 'bagging_fraction': 0.9709221794912909, 'min_child_samples': 8}. Best is trial 2 with value: 0.9985632183908045.\u001b[0m\n",
      "\u001b[32m[I 2020-11-19 11:44:23,485]\u001b[0m Trial 6 finished with value: 0.9853070175438596 and parameters: {'num_leaves': 189, 'feature_fraction': 0.9905580058235616, 'bagging_fraction': 0.7470225688214461, 'min_child_samples': 18}. Best is trial 2 with value: 0.9985632183908045.\u001b[0m\n",
      "\u001b[32m[I 2020-11-19 11:44:23,512]\u001b[0m Trial 7 finished with value: 0.9891987431264728 and parameters: {'num_leaves': 175, 'feature_fraction': 0.9051429414047263, 'bagging_fraction': 0.967949969931851, 'min_child_samples': 98}. Best is trial 2 with value: 0.9985632183908045.\u001b[0m\n",
      "\u001b[32m[I 2020-11-19 11:44:23,571]\u001b[0m Trial 8 finished with value: 0.9970414201183433 and parameters: {'num_leaves': 194, 'feature_fraction': 0.8555128331558133, 'bagging_fraction': 0.4058335670049443, 'min_child_samples': 24}. Best is trial 2 with value: 0.9985632183908045.\u001b[0m\n",
      "\u001b[32m[I 2020-11-19 11:44:23,597]\u001b[0m Trial 9 finished with value: 0.9870614035087719 and parameters: {'num_leaves': 4, 'feature_fraction': 0.6905336255969436, 'bagging_fraction': 0.5376748878956568, 'min_child_samples': 16}. Best is trial 2 with value: 0.9985632183908045.\u001b[0m\n",
      "\u001b[32m[I 2020-11-19 11:44:23,635]\u001b[0m Trial 10 finished with value: 0.9986005597760896 and parameters: {'num_leaves': 124, 'feature_fraction': 0.4152900509360196, 'bagging_fraction': 0.8228707295218005, 'min_child_samples': 41}. Best is trial 10 with value: 0.9986005597760896.\u001b[0m\n",
      "\u001b[32m[I 2020-11-19 11:44:23,673]\u001b[0m Trial 11 finished with value: 0.9851612903225806 and parameters: {'num_leaves': 127, 'feature_fraction': 0.45041529303630085, 'bagging_fraction': 0.8236525038615959, 'min_child_samples': 42}. Best is trial 10 with value: 0.9986005597760896.\u001b[0m\n",
      "\u001b[32m[I 2020-11-19 11:44:23,697]\u001b[0m Trial 12 finished with value: 0.996487603305785 and parameters: {'num_leaves': 3, 'feature_fraction': 0.42460581087912, 'bagging_fraction': 0.8267496956250544, 'min_child_samples': 72}. Best is trial 10 with value: 0.9986005597760896.\u001b[0m\n",
      "\u001b[32m[I 2020-11-19 11:44:23,736]\u001b[0m Trial 13 finished with value: 0.9920350457984866 and parameters: {'num_leaves': 53, 'feature_fraction': 0.5077100469462545, 'bagging_fraction': 0.6225490472752089, 'min_child_samples': 39}. Best is trial 10 with value: 0.9986005597760896.\u001b[0m\n",
      "\u001b[32m[I 2020-11-19 11:44:23,771]\u001b[0m Trial 14 finished with value: 0.9989911218724778 and parameters: {'num_leaves': 255, 'feature_fraction': 0.824619117635282, 'bagging_fraction': 0.8367286494919259, 'min_child_samples': 83}. Best is trial 14 with value: 0.9989911218724778.\u001b[0m\n",
      "\u001b[32m[I 2020-11-19 11:44:23,802]\u001b[0m Trial 15 finished with value: 0.9900826446280991 and parameters: {'num_leaves': 250, 'feature_fraction': 0.8117303050023902, 'bagging_fraction': 0.874976544126095, 'min_child_samples': 88}. Best is trial 14 with value: 0.9989911218724778.\u001b[0m\n",
      "\u001b[32m[I 2020-11-19 11:44:23,835]\u001b[0m Trial 16 finished with value: 0.996900826446281 and parameters: {'num_leaves': 141, 'feature_fraction': 0.6505204019196809, 'bagging_fraction': 0.6422418211334632, 'min_child_samples': 81}. Best is trial 14 with value: 0.9989911218724778.\u001b[0m\n",
      "\u001b[32m[I 2020-11-19 11:44:23,866]\u001b[0m Trial 17 finished with value: 0.9962264150943396 and parameters: {'num_leaves': 134, 'feature_fraction': 0.9601246690156389, 'bagging_fraction': 0.8802230762327686, 'min_child_samples': 97}. Best is trial 14 with value: 0.9989911218724778.\u001b[0m\n",
      "\u001b[32m[I 2020-11-19 11:44:23,901]\u001b[0m Trial 18 finished with value: 0.9972746331236898 and parameters: {'num_leaves': 100, 'feature_fraction': 0.8052402772650422, 'bagging_fraction': 0.7669918329211263, 'min_child_samples': 46}. Best is trial 14 with value: 0.9989911218724778.\u001b[0m\n",
      "\u001b[32m[I 2020-11-19 11:44:23,931]\u001b[0m Trial 19 finished with value: 0.9968446601941747 and parameters: {'num_leaves': 255, 'feature_fraction': 0.5063214923568307, 'bagging_fraction': 0.6579492698025233, 'min_child_samples': 70}. Best is trial 14 with value: 0.9989911218724778.\u001b[0m\n",
      "\u001b[32m[I 2020-11-19 11:44:23,969]\u001b[0m Trial 20 finished with value: 0.9929378531073447 and parameters: {'num_leaves': 154, 'feature_fraction': 0.82972167792708, 'bagging_fraction': 0.5625017519444363, 'min_child_samples': 84}. Best is trial 14 with value: 0.9989911218724778.\u001b[0m\n",
      "\u001b[32m[I 2020-11-19 11:44:24,015]\u001b[0m Trial 21 finished with value: 0.988347898460258 and parameters: {'num_leaves': 23, 'feature_fraction': 0.8902744231251398, 'bagging_fraction': 0.7999351980540407, 'min_child_samples': 33}. Best is trial 14 with value: 0.9989911218724778.\u001b[0m\n",
      "\u001b[32m[I 2020-11-19 11:44:24,062]\u001b[0m Trial 22 finished with value: 0.9899425287356323 and parameters: {'num_leaves': 227, 'feature_fraction': 0.7454203654372804, 'bagging_fraction': 0.8694589828977209, 'min_child_samples': 28}. Best is trial 14 with value: 0.9989911218724778.\u001b[0m\n",
      "\u001b[32m[I 2020-11-19 11:44:24,189]\u001b[0m Trial 23 finished with value: 0.9914689970869746 and parameters: {'num_leaves': 87, 'feature_fraction': 0.9871561068378774, 'bagging_fraction': 0.7925559022283066, 'min_child_samples': 7}. Best is trial 14 with value: 0.9989911218724778.\u001b[0m\n",
      "\u001b[32m[I 2020-11-19 11:44:24,224]\u001b[0m Trial 24 finished with value: 0.9984258166076347 and parameters: {'num_leaves': 219, 'feature_fraction': 0.8903990002508502, 'bagging_fraction': 0.7205500898698355, 'min_child_samples': 53}. Best is trial 14 with value: 0.9989911218724778.\u001b[0m\n",
      "\u001b[32m[I 2020-11-19 11:44:24,281]\u001b[0m Trial 25 finished with value: 0.9983498349834983 and parameters: {'num_leaves': 114, 'feature_fraction': 0.8581796957487154, 'bagging_fraction': 0.8618762671820867, 'min_child_samples': 22}. Best is trial 14 with value: 0.9989911218724778.\u001b[0m\n",
      "\u001b[32m[I 2020-11-19 11:44:24,322]\u001b[0m Trial 26 finished with value: 0.9991789819376026 and parameters: {'num_leaves': 67, 'feature_fraction': 0.7909492830843127, 'bagging_fraction': 0.674015143177593, 'min_child_samples': 37}. Best is trial 26 with value: 0.9991789819376026.\u001b[0m\n",
      "\u001b[32m[I 2020-11-19 11:44:24,356]\u001b[0m Trial 27 finished with value: 0.9820481436148512 and parameters: {'num_leaves': 78, 'feature_fraction': 0.6891890484034086, 'bagging_fraction': 0.6906828206653157, 'min_child_samples': 49}. Best is trial 26 with value: 0.9991789819376026.\u001b[0m\n",
      "\u001b[32m[I 2020-11-19 11:44:24,397]\u001b[0m Trial 28 finished with value: 0.9866213151927437 and parameters: {'num_leaves': 160, 'feature_fraction': 0.7950979944727161, 'bagging_fraction': 0.5372853392751984, 'min_child_samples': 36}. Best is trial 26 with value: 0.9991789819376026.\u001b[0m\n",
      "\u001b[32m[I 2020-11-19 11:44:24,430]\u001b[0m Trial 29 finished with value: 0.9893267651888341 and parameters: {'num_leaves': 51, 'feature_fraction': 0.6379691207632054, 'bagging_fraction': 0.4709918340350773, 'min_child_samples': 66}. Best is trial 26 with value: 0.9991789819376026.\u001b[0m\n",
      "\u001b[32m[I 2020-11-19 11:44:24,464]\u001b[0m Trial 30 finished with value: 0.9975659229208924 and parameters: {'num_leaves': 106, 'feature_fraction': 0.768738895319966, 'bagging_fraction': 0.5895408706015591, 'min_child_samples': 58}. Best is trial 26 with value: 0.9991789819376026.\u001b[0m\n",
      "\u001b[32m[I 2020-11-19 11:44:24,502]\u001b[0m Trial 31 finished with value: 0.9915289256198347 and parameters: {'num_leaves': 20, 'feature_fraction': 0.8529053315978353, 'bagging_fraction': 0.6895967512889222, 'min_child_samples': 44}. Best is trial 26 with value: 0.9991789819376026.\u001b[0m\n",
      "\u001b[32m[I 2020-11-19 11:44:24,542]\u001b[0m Trial 32 finished with value: 0.992540494458653 and parameters: {'num_leaves': 71, 'feature_fraction': 0.9391435049587289, 'bagging_fraction': 0.9142781631717152, 'min_child_samples': 38}. Best is trial 26 with value: 0.9991789819376026.\u001b[0m\n",
      "\u001b[32m[I 2020-11-19 11:44:24,579]\u001b[0m Trial 33 finished with value: 0.9983498349834983 and parameters: {'num_leaves': 27, 'feature_fraction': 0.7308754257952988, 'bagging_fraction': 0.7608058304215118, 'min_child_samples': 56}. Best is trial 26 with value: 0.9991789819376026.\u001b[0m\n",
      "\u001b[32m[I 2020-11-19 11:44:24,636]\u001b[0m Trial 34 finished with value: 0.9997960016319869 and parameters: {'num_leaves': 88, 'feature_fraction': 0.7665115707599306, 'bagging_fraction': 0.8294908493874452, 'min_child_samples': 29}. Best is trial 34 with value: 0.9997960016319869.\u001b[0m\n",
      "\u001b[32m[I 2020-11-19 11:44:24,680]\u001b[0m Trial 35 finished with value: 0.9908447773616313 and parameters: {'num_leaves': 86, 'feature_fraction': 0.7914447506968622, 'bagging_fraction': 0.9256410815700958, 'min_child_samples': 30}. Best is trial 34 with value: 0.9997960016319869.\u001b[0m\n",
      "\u001b[32m[I 2020-11-19 11:44:24,772]\u001b[0m Trial 36 finished with value: 0.9987320371935757 and parameters: {'num_leaves': 122, 'feature_fraction': 0.7051068745798823, 'bagging_fraction': 0.8408408270419424, 'min_child_samples': 12}. Best is trial 34 with value: 0.9997960016319869.\u001b[0m\n",
      "\u001b[32m[I 2020-11-19 11:44:24,857]\u001b[0m Trial 37 finished with value: 0.9835526315789473 and parameters: {'num_leaves': 51, 'feature_fraction': 0.7146526239361423, 'bagging_fraction': 0.848686010890745, 'min_child_samples': 11}. Best is trial 34 with value: 0.9997960016319869.\u001b[0m\n",
      "\u001b[32m[I 2020-11-19 11:44:24,926]\u001b[0m Trial 38 finished with value: 0.9981132075471698 and parameters: {'num_leaves': 97, 'feature_fraction': 0.7619417172263043, 'bagging_fraction': 0.9974377854569985, 'min_child_samples': 16}. Best is trial 34 with value: 0.9997960016319869.\u001b[0m\n",
      "\u001b[32m[I 2020-11-19 11:44:24,981]\u001b[0m Trial 39 finished with value: 0.9779681762545899 and parameters: {'num_leaves': 65, 'feature_fraction': 0.6692954839194151, 'bagging_fraction': 0.7796324366465955, 'min_child_samples': 21}. Best is trial 34 with value: 0.9997960016319869.\u001b[0m\n",
      "\u001b[32m[I 2020-11-19 11:44:25,061]\u001b[0m Trial 40 finished with value: 0.9965106732348111 and parameters: {'num_leaves': 116, 'feature_fraction': 0.5891194683949923, 'bagging_fraction': 0.9601831734144193, 'min_child_samples': 12}. Best is trial 34 with value: 0.9997960016319869.\u001b[0m\n",
      "\u001b[32m[I 2020-11-19 11:44:25,108]\u001b[0m Trial 41 finished with value: 0.9979822437449556 and parameters: {'num_leaves': 118, 'feature_fraction': 0.7713909454037985, 'bagging_fraction': 0.7326612923409231, 'min_child_samples': 27}. Best is trial 34 with value: 0.9997960016319869.\u001b[0m\n",
      "\u001b[32m[I 2020-11-19 11:44:25,156]\u001b[0m Trial 42 finished with value: 0.9972122660294703 and parameters: {'num_leaves': 141, 'feature_fraction': 0.618393394841184, 'bagging_fraction': 0.9028331312277689, 'min_child_samples': 34}. Best is trial 34 with value: 0.9997960016319869.\u001b[0m\n",
      "\u001b[32m[I 2020-11-19 11:44:25,191]\u001b[0m Trial 43 finished with value: 0.9993112947658402 and parameters: {'num_leaves': 154, 'feature_fraction': 0.7176861279339974, 'bagging_fraction': 0.8361771036808672, 'min_child_samples': 50}. Best is trial 34 with value: 0.9997960016319869.\u001b[0m\n",
      "\u001b[32m[I 2020-11-19 11:44:25,231]\u001b[0m Trial 44 finished with value: 0.9923922231614539 and parameters: {'num_leaves': 204, 'feature_fraction': 0.7118354624320953, 'bagging_fraction': 0.8426840130088975, 'min_child_samples': 50}. Best is trial 34 with value: 0.9997960016319869.\u001b[0m\n",
      "\u001b[32m[I 2020-11-19 11:44:25,268]\u001b[0m Trial 45 finished with value: 0.998995983935743 and parameters: {'num_leaves': 165, 'feature_fraction': 0.7403221659828106, 'bagging_fraction': 0.9008909248722384, 'min_child_samples': 61}. Best is trial 34 with value: 0.9997960016319869.\u001b[0m\n",
      "\u001b[32m[I 2020-11-19 11:44:25,365]\u001b[0m Trial 46 finished with value: 0.9995567375886525 and parameters: {'num_leaves': 177, 'feature_fraction': 0.8332567467784229, 'bagging_fraction': 0.907585901181522, 'min_child_samples': 63}. Best is trial 34 with value: 0.9997960016319869.\u001b[0m\n",
      "\u001b[32m[I 2020-11-19 11:44:25,403]\u001b[0m Trial 47 finished with value: 0.9845381526104418 and parameters: {'num_leaves': 172, 'feature_fraction': 0.7369233546965057, 'bagging_fraction': 0.953694125915548, 'min_child_samples': 63}. Best is trial 34 with value: 0.9997960016319869.\u001b[0m\n",
      "\u001b[32m[I 2020-11-19 11:44:25,443]\u001b[0m Trial 48 finished with value: 0.9982456140350877 and parameters: {'num_leaves': 187, 'feature_fraction': 0.8498719396801427, 'bagging_fraction': 0.9898153139306158, 'min_child_samples': 61}. Best is trial 34 with value: 0.9997960016319869.\u001b[0m\n",
      "\u001b[32m[I 2020-11-19 11:44:25,484]\u001b[0m Trial 49 finished with value: 0.993859649122807 and parameters: {'num_leaves': 163, 'feature_fraction': 0.7843201519961012, 'bagging_fraction': 0.8979460514205788, 'min_child_samples': 72}. Best is trial 34 with value: 0.9997960016319869.\u001b[0m\n",
      "\u001b[32m[I 2020-11-19 11:44:25,529]\u001b[0m Trial 50 finished with value: 0.9933510638297872 and parameters: {'num_leaves': 148, 'feature_fraction': 0.7548749428450544, 'bagging_fraction': 0.8123469250208875, 'min_child_samples': 56}. Best is trial 34 with value: 0.9997960016319869.\u001b[0m\n",
      "\u001b[32m[I 2020-11-19 11:44:25,568]\u001b[0m Trial 51 finished with value: 0.9991315675206253 and parameters: {'num_leaves': 175, 'feature_fraction': 0.8309051310388212, 'bagging_fraction': 0.8906152737861257, 'min_child_samples': 78}. Best is trial 34 with value: 0.9997960016319869.\u001b[0m\n",
      "\u001b[32m[I 2020-11-19 11:44:25,604]\u001b[0m Trial 52 finished with value: 0.9956989247311828 and parameters: {'num_leaves': 171, 'feature_fraction': 0.8336906274293149, 'bagging_fraction': 0.9343938478388858, 'min_child_samples': 77}. Best is trial 34 with value: 0.9997960016319869.\u001b[0m\n",
      "\u001b[32m[I 2020-11-19 11:44:25,648]\u001b[0m Trial 53 finished with value: 0.9993801652892562 and parameters: {'num_leaves': 202, 'feature_fraction': 0.6718845913768634, 'bagging_fraction': 0.8832771020124707, 'min_child_samples': 66}. Best is trial 34 with value: 0.9997960016319869.\u001b[0m\n",
      "\u001b[32m[I 2020-11-19 11:44:25,694]\u001b[0m Trial 54 finished with value: 0.9985720114239085 and parameters: {'num_leaves': 202, 'feature_fraction': 0.6648523311929463, 'bagging_fraction': 0.8823778465907063, 'min_child_samples': 67}. Best is trial 34 with value: 0.9997960016319869.\u001b[0m\n",
      "\u001b[32m[I 2020-11-19 11:44:25,737]\u001b[0m Trial 55 finished with value: 0.996328029375765 and parameters: {'num_leaves': 180, 'feature_fraction': 0.8747743535089333, 'bagging_fraction': 0.934823992631198, 'min_child_samples': 76}. Best is trial 34 with value: 0.9997960016319869.\u001b[0m\n",
      "\u001b[32m[I 2020-11-19 11:44:25,785]\u001b[0m Trial 56 finished with value: 0.9921307506053268 and parameters: {'num_leaves': 215, 'feature_fraction': 0.815042656997874, 'bagging_fraction': 0.6610532886571735, 'min_child_samples': 77}. Best is trial 34 with value: 0.9997960016319869.\u001b[0m\n",
      "\u001b[32m[I 2020-11-19 11:44:25,818]\u001b[0m Trial 57 finished with value: 0.9934289127837514 and parameters: {'num_leaves': 198, 'feature_fraction': 0.6872726428958724, 'bagging_fraction': 0.814281098953288, 'min_child_samples': 87}. Best is trial 34 with value: 0.9997960016319869.\u001b[0m\n",
      "\u001b[32m[I 2020-11-19 11:44:25,856]\u001b[0m Trial 58 finished with value: 0.9902482269503545 and parameters: {'num_leaves': 185, 'feature_fraction': 0.5518077044168457, 'bagging_fraction': 0.9768977783717323, 'min_child_samples': 92}. Best is trial 34 with value: 0.9997960016319869.\u001b[0m\n",
      "\u001b[32m[I 2020-11-19 11:44:25,896]\u001b[0m Trial 59 finished with value: 0.9944086021505377 and parameters: {'num_leaves': 239, 'feature_fraction': 0.8358912975730693, 'bagging_fraction': 0.8625724562319905, 'min_child_samples': 48}. Best is trial 34 with value: 0.9997960016319869.\u001b[0m\n",
      "\u001b[32m[I 2020-11-19 11:44:25,941]\u001b[0m Trial 60 finished with value: 0.9965698143664246 and parameters: {'num_leaves': 211, 'feature_fraction': 0.9138989741755755, 'bagging_fraction': 0.9481043638157456, 'min_child_samples': 41}. Best is trial 34 with value: 0.9997960016319869.\u001b[0m\n",
      "\u001b[32m[I 2020-11-19 11:44:25,982]\u001b[0m Trial 61 finished with value: 0.9938423645320198 and parameters: {'num_leaves': 165, 'feature_fraction': 0.7409999878180995, 'bagging_fraction': 0.8854936346670406, 'min_child_samples': 66}. Best is trial 34 with value: 0.9997960016319869.\u001b[0m\n",
      "\u001b[32m[I 2020-11-19 11:44:26,027]\u001b[0m Trial 62 finished with value: 0.9945175438596492 and parameters: {'num_leaves': 149, 'feature_fraction': 0.7281084866887092, 'bagging_fraction': 0.9064215895138009, 'min_child_samples': 62}. Best is trial 34 with value: 0.9997960016319869.\u001b[0m\n",
      "\u001b[32m[I 2020-11-19 11:44:26,071]\u001b[0m Trial 63 finished with value: 0.9950537634408603 and parameters: {'num_leaves': 134, 'feature_fraction': 0.7829442625311472, 'bagging_fraction': 0.8883745022338473, 'min_child_samples': 69}. Best is trial 34 with value: 0.9997960016319869.\u001b[0m\n",
      "\u001b[32m[I 2020-11-19 11:44:26,118]\u001b[0m Trial 64 finished with value: 0.99916142557652 and parameters: {'num_leaves': 179, 'feature_fraction': 0.6679878538158911, 'bagging_fraction': 0.9151605836980582, 'min_child_samples': 53}. Best is trial 34 with value: 0.9997960016319869.\u001b[0m\n",
      "\u001b[32m[I 2020-11-19 11:44:26,164]\u001b[0m Trial 65 finished with value: 0.996774193548387 and parameters: {'num_leaves': 192, 'feature_fraction': 0.6375984842458301, 'bagging_fraction': 0.8592609473670613, 'min_child_samples': 54}. Best is trial 34 with value: 0.9997960016319869.\u001b[0m\n",
      "\u001b[32m[I 2020-11-19 11:44:26,207]\u001b[0m Trial 66 finished with value: 0.9912280701754387 and parameters: {'num_leaves': 180, 'feature_fraction': 0.6732253059303336, 'bagging_fraction': 0.7927132350973235, 'min_child_samples': 46}. Best is trial 34 with value: 0.9997960016319869.\u001b[0m\n",
      "\u001b[32m[I 2020-11-19 11:44:26,252]\u001b[0m Trial 67 finished with value: 0.9946960424316605 and parameters: {'num_leaves': 158, 'feature_fraction': 0.6189462031630852, 'bagging_fraction': 0.921038260643455, 'min_child_samples': 52}. Best is trial 34 with value: 0.9997960016319869.\u001b[0m\n",
      "\u001b[32m[I 2020-11-19 11:44:26,289]\u001b[0m Trial 68 finished with value: 0.9823481116584565 and parameters: {'num_leaves': 225, 'feature_fraction': 0.6956046478808655, 'bagging_fraction': 0.7108125504858469, 'min_child_samples': 56}. Best is trial 34 with value: 0.9997960016319869.\u001b[0m\n",
      "\u001b[32m[I 2020-11-19 11:44:26,323]\u001b[0m Trial 69 finished with value: 0.9913156752062526 and parameters: {'num_leaves': 43, 'feature_fraction': 0.8094162576877841, 'bagging_fraction': 0.749625719270071, 'min_child_samples': 74}. Best is trial 34 with value: 0.9997960016319869.\u001b[0m\n",
      "\u001b[32m[I 2020-11-19 11:44:26,367]\u001b[0m Trial 70 finished with value: 0.9909677419354838 and parameters: {'num_leaves': 236, 'feature_fraction': 0.8756883144316447, 'bagging_fraction': 0.8229615199470403, 'min_child_samples': 80}. Best is trial 34 with value: 0.9997960016319869.\u001b[0m\n",
      "\u001b[32m[I 2020-11-19 11:44:26,404]\u001b[0m Trial 71 finished with value: 0.993920972644377 and parameters: {'num_leaves': 170, 'feature_fraction': 0.7148334784509902, 'bagging_fraction': 0.9120604911481371, 'min_child_samples': 59}. Best is trial 34 with value: 0.9997960016319869.\u001b[0m\n",
      "\u001b[32m[I 2020-11-19 11:44:26,444]\u001b[0m Trial 72 finished with value: 0.9912778904665314 and parameters: {'num_leaves': 145, 'feature_fraction': 0.7666384934838572, 'bagging_fraction': 0.8682722389059028, 'min_child_samples': 64}. Best is trial 34 with value: 0.9997960016319869.\u001b[0m\n",
      "\u001b[32m[I 2020-11-19 11:44:26,491]\u001b[0m Trial 73 finished with value: 0.9961460446247465 and parameters: {'num_leaves': 179, 'feature_fraction': 0.6549663166723187, 'bagging_fraction': 0.6201303002740486, 'min_child_samples': 30}. Best is trial 34 with value: 0.9997960016319869.\u001b[0m\n",
      "\u001b[32m[I 2020-11-19 11:44:26,530]\u001b[0m Trial 74 finished with value: 0.9935950413223141 and parameters: {'num_leaves': 62, 'feature_fraction': 0.6807924809968925, 'bagging_fraction': 0.9466866904563234, 'min_child_samples': 44}. Best is trial 34 with value: 0.9997960016319869.\u001b[0m\n",
      "\u001b[32m[I 2020-11-19 11:44:26,574]\u001b[0m Trial 75 finished with value: 0.9990570485619991 and parameters: {'num_leaves': 193, 'feature_fraction': 0.7983730772384053, 'bagging_fraction': 0.979757990379918, 'min_child_samples': 38}. Best is trial 34 with value: 0.9997960016319869.\u001b[0m\n",
      "\u001b[32m[I 2020-11-19 11:44:26,621]\u001b[0m Trial 76 finished with value: 0.9965986394557823 and parameters: {'num_leaves': 153, 'feature_fraction': 0.8034234500734045, 'bagging_fraction': 0.9752905641952512, 'min_child_samples': 36}. Best is trial 34 with value: 0.9997960016319869.\u001b[0m\n",
      "\u001b[32m[I 2020-11-19 11:44:26,664]\u001b[0m Trial 77 finished with value: 0.9986225895316805 and parameters: {'num_leaves': 206, 'feature_fraction': 0.8206019361822049, 'bagging_fraction': 0.8317319706618805, 'min_child_samples': 41}. Best is trial 34 with value: 0.9997960016319869.\u001b[0m\n",
      "\u001b[32m[I 2020-11-19 11:44:26,718]\u001b[0m Trial 78 finished with value: 0.9956304619225967 and parameters: {'num_leaves': 196, 'feature_fraction': 0.7818615009485149, 'bagging_fraction': 0.6802649907132196, 'min_child_samples': 38}. Best is trial 34 with value: 0.9997960016319869.\u001b[0m\n",
      "\u001b[32m[I 2020-11-19 11:44:26,780]\u001b[0m Trial 79 finished with value: 0.9980980557903635 and parameters: {'num_leaves': 188, 'feature_fraction': 0.7527124851564024, 'bagging_fraction': 0.9968699769563617, 'min_child_samples': 25}. Best is trial 34 with value: 0.9997960016319869.\u001b[0m\n",
      "\u001b[32m[I 2020-11-19 11:44:26,833]\u001b[0m Trial 80 finished with value: 0.9973769168684422 and parameters: {'num_leaves': 91, 'feature_fraction': 0.8414072175510066, 'bagging_fraction': 0.8496283954115713, 'min_child_samples': 30}. Best is trial 34 with value: 0.9997960016319869.\u001b[0m\n",
      "\u001b[32m[I 2020-11-19 11:44:26,871]\u001b[0m Trial 81 finished with value: 0.9993351063829787 and parameters: {'num_leaves': 166, 'feature_fraction': 0.7158025003065692, 'bagging_fraction': 0.9322572122966212, 'min_child_samples': 51}. Best is trial 34 with value: 0.9997960016319869.\u001b[0m\n",
      "\u001b[32m[I 2020-11-19 11:44:26,911]\u001b[0m Trial 82 finished with value: 0.9981132075471698 and parameters: {'num_leaves': 179, 'feature_fraction': 0.7218593687869768, 'bagging_fraction': 0.9316865945981315, 'min_child_samples': 51}. Best is trial 34 with value: 0.9997960016319869.\u001b[0m\n",
      "\u001b[32m[I 2020-11-19 11:44:26,952]\u001b[0m Trial 83 finished with value: 0.985405837664934 and parameters: {'num_leaves': 74, 'feature_fraction': 0.7066526827700935, 'bagging_fraction': 0.966537743818046, 'min_child_samples': 47}. Best is trial 34 with value: 0.9997960016319869.\u001b[0m\n",
      "\u001b[32m[I 2020-11-19 11:44:26,997]\u001b[0m Trial 84 finished with value: 0.9978070175438597 and parameters: {'num_leaves': 156, 'feature_fraction': 0.867760458609015, 'bagging_fraction': 0.8908025816003993, 'min_child_samples': 44}. Best is trial 34 with value: 0.9997960016319869.\u001b[0m\n",
      "\u001b[32m[I 2020-11-19 11:44:27,033]\u001b[0m Trial 85 finished with value: 0.9962264150943396 and parameters: {'num_leaves': 133, 'feature_fraction': 0.6400571342155712, 'bagging_fraction': 0.9437787560389715, 'min_child_samples': 54}. Best is trial 34 with value: 0.9997960016319869.\u001b[0m\n",
      "\u001b[32m[I 2020-11-19 11:44:27,079]\u001b[0m Trial 86 finished with value: 0.9964398734177216 and parameters: {'num_leaves': 174, 'feature_fraction': 0.8013573917113128, 'bagging_fraction': 0.9102325817819041, 'min_child_samples': 34}. Best is trial 34 with value: 0.9997960016319869.\u001b[0m\n",
      "\u001b[32m[I 2020-11-19 11:44:27,115]\u001b[0m Trial 87 finished with value: 0.9919950738916257 and parameters: {'num_leaves': 166, 'feature_fraction': 0.7785201250367471, 'bagging_fraction': 0.9871936556365295, 'min_child_samples': 58}. Best is trial 34 with value: 0.9997960016319869.\u001b[0m\n",
      "\u001b[32m[I 2020-11-19 11:44:27,180]\u001b[0m Trial 88 finished with value: 0.9991789819376027 and parameters: {'num_leaves': 185, 'feature_fraction': 0.7518490722843038, 'bagging_fraction': 0.8742853597325908, 'min_child_samples': 21}. Best is trial 34 with value: 0.9997960016319869.\u001b[0m\n",
      "\u001b[32m[I 2020-11-19 11:44:27,235]\u001b[0m Trial 89 finished with value: 0.9990929705215419 and parameters: {'num_leaves': 58, 'feature_fraction': 0.7505847933023005, 'bagging_fraction': 0.8748213481129619, 'min_child_samples': 24}. Best is trial 34 with value: 0.9997960016319869.\u001b[0m\n",
      "\u001b[32m[I 2020-11-19 11:44:27,347]\u001b[0m Trial 90 finished with value: 0.9958749457229701 and parameters: {'num_leaves': 106, 'feature_fraction': 0.6982326622829002, 'bagging_fraction': 0.9188996551426646, 'min_child_samples': 17}. Best is trial 34 with value: 0.9997960016319869.\u001b[0m\n",
      "\u001b[32m[I 2020-11-19 11:44:27,411]\u001b[0m Trial 91 finished with value: 0.9904698581560284 and parameters: {'num_leaves': 81, 'feature_fraction': 0.7544055006272479, 'bagging_fraction': 0.8746093988251934, 'min_child_samples': 22}. Best is trial 34 with value: 0.9997960016319869.\u001b[0m\n",
      "\u001b[32m[I 2020-11-19 11:44:27,475]\u001b[0m Trial 92 finished with value: 0.9945578231292518 and parameters: {'num_leaves': 54, 'feature_fraction': 0.7289108943286483, 'bagging_fraction': 0.8544840454436686, 'min_child_samples': 19}. Best is trial 34 with value: 0.9997960016319869.\u001b[0m\n",
      "\u001b[32m[I 2020-11-19 11:44:27,535]\u001b[0m Trial 93 finished with value: 0.9754838709677419 and parameters: {'num_leaves': 38, 'feature_fraction': 0.7653451285432877, 'bagging_fraction': 0.8753597410310643, 'min_child_samples': 24}. Best is trial 34 with value: 0.9997960016319869.\u001b[0m\n",
      "\u001b[32m[I 2020-11-19 11:44:27,600]\u001b[0m Trial 94 finished with value: 0.9949685534591195 and parameters: {'num_leaves': 60, 'feature_fraction': 0.6556792166146621, 'bagging_fraction': 0.8361665575341446, 'min_child_samples': 20}. Best is trial 34 with value: 0.9997960016319869.\u001b[0m\n",
      "\u001b[32m[I 2020-11-19 11:44:27,675]\u001b[0m Trial 95 finished with value: 0.9989517819706499 and parameters: {'num_leaves': 184, 'feature_fraction': 0.746128821585144, 'bagging_fraction': 0.7781012469161597, 'min_child_samples': 15}. Best is trial 34 with value: 0.9997960016319869.\u001b[0m\n",
      "\u001b[32m[I 2020-11-19 11:44:27,738]\u001b[0m Trial 96 finished with value: 0.9896449704142012 and parameters: {'num_leaves': 70, 'feature_fraction': 0.6781154141104195, 'bagging_fraction': 0.8944972319808427, 'min_child_samples': 26}. Best is trial 34 with value: 0.9997960016319869.\u001b[0m\n",
      "\u001b[32m[I 2020-11-19 11:44:27,792]\u001b[0m Trial 97 finished with value: 0.9968971631205674 and parameters: {'num_leaves': 209, 'feature_fraction': 0.7158599410872002, 'bagging_fraction': 0.8011792373936653, 'min_child_samples': 29}. Best is trial 34 with value: 0.9997960016319869.\u001b[0m\n",
      "\u001b[32m[I 2020-11-19 11:44:27,852]\u001b[0m Trial 98 finished with value: 0.9886968085106383 and parameters: {'num_leaves': 42, 'feature_fraction': 0.8234906247511415, 'bagging_fraction': 0.8998015454050254, 'min_child_samples': 23}. Best is trial 34 with value: 0.9997960016319869.\u001b[0m\n",
      "\u001b[32m[I 2020-11-19 11:44:27,904]\u001b[0m Trial 99 finished with value: 0.9970869746150646 and parameters: {'num_leaves': 201, 'feature_fraction': 0.7899526647248822, 'bagging_fraction': 0.8662365791701085, 'min_child_samples': 32}. Best is trial 34 with value: 0.9997960016319869.\u001b[0m\n"
     ]
    }
   ],
   "source": [
    "study = optuna.create_study(direction='maximize')\n",
    "study.optimize(objective, n_trials=100, callbacks=[neptune_callback])"
   ]
  },
  {
   "cell_type": "markdown",
   "metadata": {
    "id": "P04k_nFiXl63",
    "tags": [
     "header"
    ]
   },
   "source": [
    "### Step 4: Stop logging"
   ]
  },
  {
   "cell_type": "code",
   "execution_count": 17,
   "metadata": {
    "id": "T5teGbiLwuEi",
    "tags": [
     "code"
    ]
   },
   "outputs": [],
   "source": [
    "neptune.stop()"
   ]
  },
  {
   "cell_type": "markdown",
   "metadata": {
    "id": "YHQrdIgOIo_E",
    "tags": [
     "header"
    ]
   },
   "source": [
    "## Advanced Options"
   ]
  },
  {
   "cell_type": "markdown",
   "metadata": {
    "id": "Q9zxE-EzLAbe",
    "tags": [
     "header"
    ]
   },
   "source": [
    "### Log charts and study object during sweep"
   ]
  },
  {
   "cell_type": "markdown",
   "metadata": {
    "id": "iAJZLVQKL8Dt",
    "tags": [
     "header"
    ]
   },
   "source": [
    "### Log charts and study object after the sweep"
   ]
  },
  {
   "cell_type": "markdown",
   "metadata": {
    "id": "Tcq00KslIdDd",
    "tags": [
     "header"
    ]
   },
   "source": [
    "## Explore results in the Neptune UI"
   ]
  },
  {
   "cell_type": "code",
   "execution_count": null,
   "metadata": {},
   "outputs": [],
   "source": []
  }
 ],
 "metadata": {
  "colab": {
   "collapsed_sections": [],
   "name": "Neptune-Optuna.ipynb",
   "private_outputs": true,
   "provenance": [],
   "toc_visible": true
  },
  "kernelspec": {
   "display_name": "Python 3",
   "language": "python",
   "name": "python3"
  },
  "language_info": {
   "codemirror_mode": {
    "name": "ipython",
    "version": 3
   },
   "file_extension": ".py",
   "mimetype": "text/x-python",
   "name": "python",
   "nbconvert_exporter": "python",
   "pygments_lexer": "ipython3",
   "version": "3.7.7"
  }
 },
 "nbformat": 4,
 "nbformat_minor": 4
}
