{
  "nbformat": 4,
  "nbformat_minor": 0,
  "metadata": {
    "colab": {
      "name": "Neptune-Optuna.ipynb",
      "provenance": [],
      "private_outputs": true,
      "collapsed_sections": [],
      "toc_visible": true
    },
    "kernelspec": {
      "name": "python3",
      "display_name": "Python 3"
    }
  },
  "cells": [
    {
      "cell_type": "markdown",
      "metadata": {
        "id": "G4ny3mHCFrqG"
      },
      "source": [
        "# Neptune + Optuna"
      ]
    },
    {
      "cell_type": "markdown",
      "metadata": {
        "id": "8iu66Yz2SIWz"
      },
      "source": [
        "## Before you start"
      ]
    },
    {
      "cell_type": "markdown",
      "metadata": {
        "id": "xndcBi_EUFVi"
      },
      "source": [
        "### Install dependencies"
      ]
    },
    {
      "cell_type": "code",
      "metadata": {
        "id": "jl90ahSMvhmV"
      },
      "source": [
        "! pip install --quiet optuna neptune-client neptune-contrib['monitoring']"
      ],
      "execution_count": null,
      "outputs": []
    },
    {
      "cell_type": "markdown",
      "metadata": {
        "id": "1As3OW3LGqKg"
      },
      "source": [
        "### Import libraries"
      ]
    },
    {
      "cell_type": "code",
      "metadata": {
        "id": "FufE4GTzvRZG"
      },
      "source": [
        "import lightgbm as lgb\n",
        "import optuna\n",
        "from sklearn.datasets import load_breast_cancer\n",
        "from sklearn.metrics import roc_auc_score\n",
        "from sklearn.model_selection import train_test_split"
      ],
      "execution_count": null,
      "outputs": []
    },
    {
      "cell_type": "markdown",
      "metadata": {
        "id": "K-FNh8EKV40p"
      },
      "source": [
        "### Create a sample `objective` function for Optuna"
      ]
    },
    {
      "cell_type": "code",
      "metadata": {
        "id": "RHuuJb5VV94w"
      },
      "source": [
        "def objective(trial):\n",
        "   \n",
        "   data, target = load_breast_cancer(return_X_y=True)\n",
        "   train_x, test_x, train_y, test_y = train_test_split(data, target, test_size=0.25)\n",
        "   dtrain = lgb.Dataset(train_x, label=train_y)\n",
        "\n",
        "   param = {\n",
        "      'objective': 'binary',\n",
        "      'metric': 'binary_logloss',\n",
        "      'num_leaves': trial.suggest_int('num_leaves', 2, 256),\n",
        "      'feature_fraction': trial.suggest_uniform('feature_fraction', 0.4, 1.0),\n",
        "      'bagging_fraction': trial.suggest_uniform('bagging_fraction', 0.4, 1.0),\n",
        "      'min_child_samples': trial.suggest_int('min_child_samples', 5, 100),\n",
        "   }\n",
        "\n",
        "   gbm = lgb.train(param, dtrain)\n",
        "   preds = gbm.predict(test_x)\n",
        "   accuracy = roc_auc_score(test_y, preds)\n",
        "   \n",
        "   return accuracy"
      ],
      "execution_count": null,
      "outputs": []
    },
    {
      "cell_type": "markdown",
      "metadata": {
        "id": "If9d2A8zUynE"
      },
      "source": [
        "### Initialize Neptune"
      ]
    },
    {
      "cell_type": "code",
      "metadata": {
        "id": "FQgpdwXVvcY1"
      },
      "source": [
        "import neptune"
      ],
      "execution_count": null,
      "outputs": []
    },
    {
      "cell_type": "markdown",
      "metadata": {
        "id": "auuzaMR3Sei2"
      },
      "source": [
        "Neptune gives you an option of logging data under a public folder as an anonymous user. This is great when you are just trying out the application and don't have a Neptune account yet.  \n",
        "\n",
        "---\n",
        "\n",
        "If you already have a [Neptune account](https://neptune.ai/register), you can create your own experiment and start logging to it using your personal API token. Pass your `username` to the `project_qualified_name` argument of the `neptune.init()` method: `project_qualified_name='YOUR_USERNAME/YOUR_PROJECT_NAME`. If you don't have a project yet, keep `/sandbox` at the end. The `sandbox` project is automatically created for you."
      ]
    },
    {
      "cell_type": "code",
      "metadata": {
        "id": "wGuFr2AaU7XF"
      },
      "source": [
        "neptune.init(api_token='ANONYMOUS', project_qualified_name='shared/optuna-integration')"
      ],
      "execution_count": null,
      "outputs": []
    },
    {
      "cell_type": "markdown",
      "metadata": {
        "id": "X9i-HAeJDLO-"
      },
      "source": [
        "## Quickstart"
      ]
    },
    {
      "cell_type": "markdown",
      "metadata": {
        "id": "CHp9zfqBToiX"
      },
      "source": [
        "### Step 1: Create an Experiment"
      ]
    },
    {
      "cell_type": "markdown",
      "metadata": {
        "id": "Be3xPNTHTsIz"
      },
      "source": [
        "This creates an experiment in Neptune.\n",
        "\n",
        "Once you have a live experiment you can log things to it. "
      ]
    },
    {
      "cell_type": "code",
      "metadata": {
        "id": "t5VBefIDwBjR"
      },
      "source": [
        "neptune.create_experiment('optuna-sweep')"
      ],
      "execution_count": null,
      "outputs": []
    },
    {
      "cell_type": "markdown",
      "metadata": {
        "id": "_QdNmNLIXYXx"
      },
      "source": [
        "Click on the link above to open this experiment in Neptune.\n",
        "\n",
        "For now it is empty but keep the tab with experiment open to see what happens next. "
      ]
    },
    {
      "cell_type": "markdown",
      "metadata": {
        "id": "XomuTzlsVILc"
      },
      "source": [
        "### Step 2: Create the Neptune Callback"
      ]
    },
    {
      "cell_type": "code",
      "metadata": {
        "id": "82879lQuVfsJ"
      },
      "source": [
        "import neptunecontrib.monitoring.optuna as opt_utils"
      ],
      "execution_count": null,
      "outputs": []
    },
    {
      "cell_type": "code",
      "metadata": {
        "id": "ybpXmhwywmJ2"
      },
      "source": [
        "neptune_callback = opt_utils.NeptuneCallback()"
      ],
      "execution_count": null,
      "outputs": []
    },
    {
      "cell_type": "markdown",
      "metadata": {
        "id": "xbkNjVVLVl8t"
      },
      "source": [
        "### Step 3: Run Optuna with the Neptune Callback\n",
        "\n",
        "You can view the logging live in the Neptune tab once Optuna you run the below cell"
      ]
    },
    {
      "cell_type": "code",
      "metadata": {
        "id": "40McUYc5wrva"
      },
      "source": [
        "study = optuna.create_study(direction='maximize')\n",
        "study.optimize(objective, n_trials=100, callbacks=[neptune_callback])"
      ],
      "execution_count": null,
      "outputs": []
    },
    {
      "cell_type": "markdown",
      "metadata": {
        "id": "P04k_nFiXl63"
      },
      "source": [
        "### Step 4: Stop logging\n",
        "\n",
        "When you track experiments with Neptune in Jupyter notebooks you need to explicitly stop the experiment by running ```neptune.stop()```.\n",
        "\n",
        "If you are running Neptune in regular ```.py``` scripts it will stop automatically when your code stops running."
      ]
    },
    {
      "cell_type": "code",
      "metadata": {
        "id": "T5teGbiLwuEi"
      },
      "source": [
        "neptune.stop()"
      ],
      "execution_count": null,
      "outputs": []
    },
    {
      "cell_type": "markdown",
      "metadata": {
        "id": "YHQrdIgOIo_E"
      },
      "source": [
        "## Advanced Options"
      ]
    },
    {
      "cell_type": "markdown",
      "metadata": {
        "id": "Q9zxE-EzLAbe"
      },
      "source": [
        "### Log charts and study object during sweep\n",
        "\n",
        "To log interactive charts from `optuna.visualization` and the `optuna.study` object itself, you can set `log_study=True` and `log_charts=True` while creating the Neptune Callback. \n",
        "\n",
        "This will log the charts after every iteration, so they can be explored while the sweep is running.\n",
        "\n",
        "<font color=yellow>Warning:</font> Depending on the size of the `optuna.study` object and the charts, this might add overhead to the sweep. To avoid this, you can log the study object and charts after the sweep."
      ]
    },
    {
      "cell_type": "code",
      "metadata": {
        "id": "EcRlqlGNLQ-3"
      },
      "source": [
        "# Create experiment\n",
        "neptune.create_experiment('optuna-sweep-advanced')\n",
        "\n",
        "# Create callback to log advanced options during the sweep\n",
        "neptune_callback = opt_utils.NeptuneCallback(log_study=True, log_charts=True)\n",
        "\n",
        "# Run Optuna with Neptune Callback\n",
        "study = optuna.create_study(direction='maximize')\n",
        "study.optimize(objective, n_trials=10, callbacks=[neptune_callback])\n",
        "\n",
        "# Stop logging (only for notebooks)\n",
        "neptune.stop()"
      ],
      "execution_count": null,
      "outputs": []
    },
    {
      "cell_type": "markdown",
      "metadata": {
        "id": "iAJZLVQKL8Dt"
      },
      "source": [
        "### Log charts and study object after the sweep\n",
        "\n",
        "If you don't want charts from `optuna.visualizations` and the `optuna.study` object to be updated after each iteration, you can log all of them after the sweep is complete to prevent overhead during the sweep. "
      ]
    },
    {
      "cell_type": "code",
      "metadata": {
        "id": "Hw_lQq9AL5PR"
      },
      "source": [
        "# Create experiment\n",
        "neptune.create_experiment('optuna-sweep-advanced')\n",
        "\n",
        "# Create Neptune callback\n",
        "neptune_callback = opt_utils.NeptuneCallback()\n",
        "\n",
        "# Run Optuna with Neptune Callback\n",
        "study = optuna.create_study(direction='maximize')\n",
        "study.optimize(objective, n_trials=100, callbacks=[neptune_callback])\n",
        "\n",
        "# Log Optuna charts and study object after the sweep is complete\n",
        "opt_utils.log_study_info(study)\n",
        "\n",
        "# Stop logging (only for notebooks)\n",
        "neptune.stop()"
      ],
      "execution_count": null,
      "outputs": []
    },
    {
      "cell_type": "markdown",
      "metadata": {
        "id": "Tcq00KslIdDd"
      },
      "source": [
        "## Explore results in the Neptune UI"
      ]
    }
  ]
}