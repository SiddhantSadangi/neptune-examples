{
  "nbformat": 4,
  "nbformat_minor": 0,
  "metadata": {
    "colab": {
      "name": "Neptune-LightGBM.ipynb",
      "private_outputs": true,
      "provenance": [],
      "collapsed_sections": [],
      "toc_visible": true
    },
    "kernelspec": {
      "name": "python3",
      "display_name": "Python 3"
    }
  },
  "cells": [
    {
      "cell_type": "markdown",
      "metadata": {
        "id": "r0_saOeEgZYI"
      },
      "source": [
        "# Neptune + LightGBM"
      ]
    },
    {
      "cell_type": "markdown",
      "metadata": {
        "id": "ZuHrZJ17getO"
      },
      "source": [
        "## Before you start"
      ]
    },
    {
      "cell_type": "markdown",
      "metadata": {
        "id": "Hp7aEYTQiIUf"
      },
      "source": [
        "### Install Dependencies"
      ]
    },
    {
      "cell_type": "code",
      "metadata": {
        "id": "EK9lGpTTgUzR"
      },
      "source": [
        "pip install --quiet lightgbm==2.2.3 neptune-client neptune-contrib[monitoring]"
      ],
      "execution_count": null,
      "outputs": []
    },
    {
      "cell_type": "markdown",
      "metadata": {
        "id": "jzggt2fghC4S"
      },
      "source": [
        "### Import Libraries"
      ]
    },
    {
      "cell_type": "code",
      "metadata": {
        "id": "uf4a1WxBiRQO"
      },
      "source": [
        "import lightgbm as lgb\r\n",
        "import neptune\r\n",
        "from neptunecontrib.monitoring.lightgbm import neptune_monitor"
      ],
      "execution_count": null,
      "outputs": []
    },
    {
      "cell_type": "markdown",
      "metadata": {
        "id": "TyeP6qI0iT1A"
      },
      "source": [
        "### Initialize Neptune\r\n",
        "\r\n",
        "Neptune gives you an option of logging data under a public folder as an anonymous user. This is great when you are just trying out the application and don't have a Neptune account yet. "
      ]
    },
    {
      "cell_type": "code",
      "metadata": {
        "id": "3-88mnKPib0T"
      },
      "source": [
        "neptune.init(api_token='ANONYMOUS', project_qualified_name='shared/LightGBM-integration')"
      ],
      "execution_count": null,
      "outputs": []
    },
    {
      "cell_type": "markdown",
      "metadata": {
        "id": "axBFfUNhwGx5"
      },
      "source": [
        "## Quickstart"
      ]
    },
    {
      "cell_type": "markdown",
      "metadata": {
        "id": "Y_L0HVQ4igs0"
      },
      "source": [
        "**Note:** \r\n",
        "\r\n",
        "\r\n",
        "Instead of logging data to the public project 'shared/showroom' as an anonymous user 'neptuner' you can log it to your own project.\r\n",
        "\r\n",
        "To do that:\r\n",
        "\r\n",
        "1. Get your Neptune API token\r\n",
        "\r\n",
        "  ![image](https://neptune.ai/wp-content/uploads/get_token.gif)\r\n",
        "\r\n",
        "2. Pass the token to the `api_token` parameter of `neptune.init()` (learn how to do this securely [here](https://docs.neptune.ai/security-and-privacy/api-tokens/how-to-find-and-set-neptune-api-token.html))\r\n",
        "3. Create a new Neptune Project (learn how to do that [here](https://docs.neptune.ai/workspace-project-and-user-management/projects/create-project.html))\r\n",
        "4. Pass your username and project_name to the `project_qualified_name` parameter of `neptune.init()`\r\n",
        "\r\n",
        "For example:\r\n",
        "\r\n",
        "```\r\n",
        "neptune.init(api_token='eyJhcGlfYW908fsdf23f940jiri0bn3085gh03riv03irn', project_qualified_name='siddhantsadangi/lightgbm')\r\n",
        "```"
      ]
    },
    {
      "cell_type": "markdown",
      "metadata": {
        "id": "pzZB67vkjpQP"
      },
      "source": [
        "### Step 1: Create an Experiment\r\n",
        "\r\n",
        "This creates an experiment in Neptune.\r\n",
        "\r\n",
        "Once you have a live experiment you can log things to it.\r\n"
      ]
    },
    {
      "cell_type": "code",
      "metadata": {
        "id": "HdsYsx0zlBNy"
      },
      "source": [
        "neptune.create_experiment(name='LightGBM-training')"
      ],
      "execution_count": null,
      "outputs": []
    },
    {
      "cell_type": "markdown",
      "metadata": {
        "id": "_wQ8_ZfImk3D"
      },
      "source": [
        "Click on the link above to open this experiment in Neptune.\r\n",
        "\r\n",
        "For now it is empty but keep the tab with experiment open to see what happens next."
      ]
    },
    {
      "cell_type": "markdown",
      "metadata": {
        "id": "aS6LitM3lF6N"
      },
      "source": [
        "### Step 2: Pass ``neptune_monitor`` to ``lgb.train``\r\n",
        "\r\n",
        "You can view the logging live in the Neptune tab once you run the below cell"
      ]
    },
    {
      "cell_type": "code",
      "metadata": {
        "id": "GKpVvQUDlPlN"
      },
      "source": [
        "# Setting up a samplt lightGBM training job\r\n",
        "from sklearn.model_selection import train_test_split\r\n",
        "from sklearn.datasets import load_wine\r\n",
        "\r\n",
        "data = load_wine()\r\n",
        "X_train, X_test, y_train, y_test = train_test_split(data.data, data.target, test_size=0.1)\r\n",
        "lgb_train = lgb.Dataset(X_train, y_train)\r\n",
        "lgb_eval = lgb.Dataset(X_test, y_test, reference=lgb_train)\r\n",
        "\r\n",
        "params = {'boosting_type': 'gbdt',\r\n",
        "              'objective': 'multiclass',\r\n",
        "              'num_class': 3,\r\n",
        "              'num_leaves': 31,\r\n",
        "              'learning_rate': 0.05,\r\n",
        "              'feature_fraction': 0.9\r\n",
        "              }\r\n",
        "\r\n",
        "# Passing `neptune_monitor` to `lgb.train()`\r\n",
        "gbm = lgb.train(params,\r\n",
        "    lgb_train,\r\n",
        "    num_boost_round=500,\r\n",
        "    valid_sets=[lgb_train, lgb_eval],\r\n",
        "    valid_names=['train','valid'],\r\n",
        "    callbacks=[neptune_monitor()],\r\n",
        "    )"
      ],
      "execution_count": null,
      "outputs": []
    },
    {
      "cell_type": "markdown",
      "metadata": {
        "id": "yasauNnibbkB"
      },
      "source": [
        "### Step 3: Stop logging\r\n",
        "\r\n",
        "When you track experiments with Neptune in Jupyter notebooks you need to explicitly stop the experiment by running ```neptune.stop()```.\r\n",
        "\r\n",
        "If you are running Neptune in regular ```.py``` scripts it will stop automatically when your code stops running."
      ]
    },
    {
      "cell_type": "code",
      "metadata": {
        "id": "__iDgMetbbkC"
      },
      "source": [
        "neptune.stop()"
      ],
      "execution_count": null,
      "outputs": []
    },
    {
      "cell_type": "markdown",
      "metadata": {
        "id": "7ZUX64yqw0ov"
      },
      "source": [
        "## More Options"
      ]
    },
    {
      "cell_type": "markdown",
      "metadata": {
        "id": "hvv3k4hFya0m"
      },
      "source": [
        "### Log Hyperparameters\r\n",
        "\r\n",
        "You can log training and model hyperparameters. To do that just pass the parameter dictionary to the `create_experiment()` method"
      ]
    },
    {
      "cell_type": "code",
      "metadata": {
        "id": "TUw01SiUypNX"
      },
      "source": [
        "params = {'boosting_type': 'gbdt',\r\n",
        "              'objective': 'multiclass',\r\n",
        "              'num_class': 3,\r\n",
        "              'num_leaves': 31,\r\n",
        "              'learning_rate': 0.05,\r\n",
        "              'feature_fraction': 0.9\r\n",
        "              }\r\n",
        "\r\n",
        "# Log hyperparameters\r\n",
        "neptune.create_experiment(name='LightGBM-training', params=params)"
      ],
      "execution_count": null,
      "outputs": []
    },
    {
      "cell_type": "markdown",
      "metadata": {
        "id": "gtoSCHzO04JY"
      },
      "source": [
        "### Save Model Artifacts\r\n",
        "\r\n",
        "You can log model weights to Neptune both during and after training.\r\n",
        "To do that just use the `log_artifact()` method on the saved model file."
      ]
    },
    {
      "cell_type": "code",
      "metadata": {
        "id": "-FHCBg561K7k"
      },
      "source": [
        "gbm.save_model('lightgbm.pkl')\r\n",
        "\r\n",
        "# Log model\r\n",
        "neptune.log_artifact('lightgbm.pkl')"
      ],
      "execution_count": null,
      "outputs": []
    },
    {
      "cell_type": "markdown",
      "metadata": {
        "id": "aI5qqqnr5Ttk"
      },
      "source": [
        "### Log Interactive Charts\r\n",
        "\r\n",
        "You can log interactive charts to Neptune.\r\n",
        "\r\n",
        "For example, let’s log an interactive ROC AUC curve."
      ]
    },
    {
      "cell_type": "markdown",
      "metadata": {
        "id": "oQzWZQBu5ekM"
      },
      "source": [
        "#### 1. Install dependencies"
      ]
    },
    {
      "cell_type": "code",
      "metadata": {
        "id": "EMgwMNHX5tqi"
      },
      "source": [
        "pip install --quiet neptune-contrib scikit-plot matplotlib==3.2.0 plotly==4.12.0"
      ],
      "execution_count": null,
      "outputs": []
    },
    {
      "cell_type": "markdown",
      "metadata": {
        "id": "JURNe3WX6CJs"
      },
      "source": [
        "#### 2. Create an ROC AUC curve"
      ]
    },
    {
      "cell_type": "code",
      "metadata": {
        "id": "_VqgN7G56J0i"
      },
      "source": [
        "import matplotlib.pyplot as plt\r\n",
        "from scikitplot.metrics import plot_roc\r\n",
        "\r\n",
        "y_test_pred = gbm.predict(X_test)\r\n",
        "\r\n",
        "fig, ax = plt.subplots()\r\n",
        "plot_roc(y_test, y_test_pred, ax=ax)"
      ],
      "execution_count": null,
      "outputs": []
    },
    {
      "cell_type": "markdown",
      "metadata": {
        "id": "mNKk9TIQ7K2s"
      },
      "source": [
        "#### 3. Log it to Neptune via `log_chart()` function.\r\n"
      ]
    },
    {
      "cell_type": "code",
      "metadata": {
        "id": "GxfGt4Yl7QL-"
      },
      "source": [
        "from neptunecontrib.api import log_chart\r\n",
        "\r\n",
        "log_chart(name='ROC curve', chart=fig)"
      ],
      "execution_count": null,
      "outputs": []
    },
    {
      "cell_type": "markdown",
      "metadata": {
        "id": "afTLlUaxlob4"
      },
      "source": [
        "### Stop logging"
      ]
    },
    {
      "cell_type": "code",
      "metadata": {
        "id": "DRnw-JeQl4IC"
      },
      "source": [
        "neptune.stop()"
      ],
      "execution_count": null,
      "outputs": []
    },
    {
      "cell_type": "markdown",
      "metadata": {
        "id": "LMWa-USAl5i9"
      },
      "source": [
        "## Explore results in the Neptune UI"
      ]
    }
  ]
}